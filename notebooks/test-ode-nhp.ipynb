{
 "cells": [
  {
   "cell_type": "markdown",
   "id": "99d811ee-0b10-45a2-b0b4-9eb77d03cc12",
   "metadata": {},
   "source": [
    "# ODE NHP Test\n",
    "\n",
    "Test ODE-GRU network with NHP loss on synthetic data"
   ]
  },
  {
   "cell_type": "code",
   "execution_count": 1,
   "id": "5d15cc90-4432-414b-be82-2b68989faad8",
   "metadata": {},
   "outputs": [],
   "source": [
    "import math\n",
    "import numpy as np\n",
    "import torch\n",
    "import hotpp\n",
    "from hotpp.data import PaddedBatch\n",
    "from matplotlib import pyplot as plt\n",
    "\n",
    "DEVICE = \"cuda\" if torch.cuda.is_available() else \"cpu\""
   ]
  },
  {
   "cell_type": "markdown",
   "id": "17f21a8e-d879-44c1-ac33-fce6c7d5d3d0",
   "metadata": {},
   "source": [
    "# Dataset\n",
    "\n",
    "Synthetic dataset with a predefined distribution of time delta."
   ]
  },
  {
   "cell_type": "code",
   "execution_count": 2,
   "id": "a6c94e50-838b-4ccd-8c09-9a9f4711ae9a",
   "metadata": {},
   "outputs": [
    {
     "data": {
      "image/png": "[encoded data removed]",
      "text/plain": [
       "<Figure size 640x480 with 1 Axes>"
      ]
     },
     "metadata": {},
     "output_type": "display_data"
    }
   ],
   "source": [
    "class DTDistribution:\n",
    "    def __init__(self):\n",
    "        self.means = torch.tensor([1, 3]).float()\n",
    "        self.stds = torch.tensor([0.2, 1])\n",
    "        self.probs = torch.tensor([0.7, 0.3])\n",
    "\n",
    "    @property\n",
    "    def entropy(self):\n",
    "        n = 10000\n",
    "        s = self.sample(10000)\n",
    "        return -self.log_pdf(s).mean()\n",
    "\n",
    "    @property\n",
    "    def expectation(self):\n",
    "        return (self.means * self.probs).sum()\n",
    "\n",
    "    def log_pdf(self, dt):\n",
    "        shape = [len(self.means)] + [1] * dt.ndim\n",
    "        means = self.means.reshape(*shape)\n",
    "        stds = self.stds.reshape(*shape)\n",
    "        probs = self.probs.reshape(*shape)\n",
    "        log_pdfs = -0.5 * (2 * math.pi * stds ** 2).log() - (means - dt) ** 2 / 2 / stds ** 2\n",
    "        return torch.logsumexp(log_pdfs + probs.log(), 0)\n",
    "\n",
    "    def sample(self, size):\n",
    "        components = torch.multinomial(self.probs, size, replacement=True)  # S.\n",
    "        sample = (torch.randn(size, 1) * self.stds + self.means).take_along_dim(components[:, None], 1).squeeze(1)\n",
    "        return sample.clip(min=0)\n",
    "\n",
    "    def plot(self, sample_size=20, ax=None):\n",
    "        if ax is None:\n",
    "            ax = plt.gca()\n",
    "        x_min = 0\n",
    "        x_max = self.means.max().item() + self.stds.max().item() * 2\n",
    "        ax.set_xlim(x_min, x_max)\n",
    "        if sample_size:\n",
    "            sample = self.sample(sample_size)\n",
    "            for x in sample:\n",
    "                ax.axvline(x, 0, 1, linewidth=0.5)\n",
    "\n",
    "        xs = torch.linspace(x_min, x_max, 1000)\n",
    "        pdfs = self.log_pdf(xs).exp()\n",
    "        ax.fill(xs, pdfs, alpha=0.5)\n",
    "\n",
    "DTDistribution().plot()"
   ]
  },
  {
   "cell_type": "markdown",
   "id": "0b2e9b7d-db89-47ec-86e7-bdc5b836acfe",
   "metadata": {},
   "source": [
    "**Create batch**\n",
    "\n",
    "Each sequences is composed of two timestamps: 0 and sampled. All labels are identical."
   ]
  },
  {
   "cell_type": "code",
   "execution_count": 3,
   "id": "3bb36262-6d3b-4d3e-87ad-143727d5ac24",
   "metadata": {},
   "outputs": [
    {
     "name": "stdout",
     "output_type": "stream",
     "text": [
      "torch.Size([10000, 2])\n"
     ]
    }
   ],
   "source": [
    "batch_size = 10000\n",
    "time_deltas = DTDistribution().sample(batch_size).reshape(batch_size)  # (B).\n",
    "time_deltas = torch.stack([torch.zeros_like(time_deltas), time_deltas], 1)  # (B, 2)\n",
    "time_deltas = PaddedBatch(time_deltas, torch.full([batch_size], 2, dtype=torch.long))\n",
    "\n",
    "batch = PaddedBatch(\n",
    "    {\n",
    "        \"timestamps\": time_deltas.payload.cumsum(1),\n",
    "        \"labels\": torch.zeros(*time_deltas.shape, dtype=torch.long)\n",
    "    },\n",
    "    time_deltas.seq_lens\n",
    ")\n",
    "print(batch.shape)"
   ]
  },
  {
   "cell_type": "markdown",
   "id": "c9ca3299-b5cc-4619-bc51-cbec20485827",
   "metadata": {},
   "source": [
    "# Model"
   ]
  },
  {
   "cell_type": "code",
   "execution_count": 4,
   "id": "d31f3965-9ebe-4a96-8eda-ef5cf26335c9",
   "metadata": {},
   "outputs": [],
   "source": [
    "module = hotpp.modules.NextItemModule(\n",
    "    seq_encoder=hotpp.nn.RnnEncoder(\n",
    "        embeddings={\"labels\": {\"in\": 1, \"out\": 1}},\n",
    "        rnn_partial=lambda dim: hotpp.nn.ODEGRU(dim, 16, num_diff_layers=3),\n",
    "    ),\n",
    "    head_partial=lambda idim, odim: hotpp.nn.Head(idim, odim, hidden_dims=[16]),\n",
    "    loss=hotpp.losses.NHPLoss(1, max_delta=5, max_intensity=5, expectation_steps=10000),\n",
    "    optimizer_partial=lambda p: torch.optim.Adam(p, lr=0.001)\n",
    ").to(DEVICE).eval()\n",
    "\n",
    "batch = batch.to(DEVICE)"
   ]
  },
  {
   "cell_type": "markdown",
   "id": "9d6c931c-fb6a-4a42-98b1-237204a66efc",
   "metadata": {},
   "source": [
    "# Train"
   ]
  },
  {
   "cell_type": "code",
   "execution_count": 5,
   "id": "cf01141a-998f-4ef7-b46f-d40bfa43b8fc",
   "metadata": {},
   "outputs": [
    {
     "name": "stdout",
     "output_type": "stream",
     "text": [
      "Entropy 0.8105257153511047\n"
     ]
    },
    {
     "name": "stderr",
     "output_type": "stream",
     "text": [
      "/home/ivan/.venv/esp/lib/python3.12/site-packages/pytorch_lightning/core/module.py:447: You are trying to `self.log()` but the `self.trainer` reference is not registered on the model yet. This is most likely because the model hasn't been passed to the `Trainer`\n"
     ]
    },
    {
     "name": "stdout",
     "output_type": "stream",
     "text": [
      "Step 0, Loss 1.48, Grad 0.19\n",
      "Step 200, Loss 0.85, Grad 0.23\n",
      "Step 400, Loss 0.80, Grad 0.37\n",
      "Step 600, Loss 0.79, Grad 0.42\n",
      "Step 800, Loss 0.80, Grad 0.31\n"
     ]
    }
   ],
   "source": [
    "module.train()\n",
    "print(\"Entropy\", DTDistribution().entropy.item())\n",
    "optimizer = module.configure_optimizers()\n",
    "for step in range(1000):\n",
    "    loss = module.training_step((batch, None), None)\n",
    "    optimizer.zero_grad()\n",
    "    loss.backward()\n",
    "    grad_norm = torch.nn.utils.clip_grad_norm_(module.parameters(), 1)\n",
    "    if step % 200 == 0:\n",
    "        print(f\"Step {step}, Loss {loss.item():.2f}, Grad {grad_norm.item():.2f}\")\n",
    "    optimizer.step()\n",
    "module.eval()\n",
    "pass"
   ]
  },
  {
   "cell_type": "markdown",
   "id": "e680c6c9-4ac4-4540-8a32-ddf8f49b8292",
   "metadata": {},
   "source": [
    "# Visualize results"
   ]
  },
  {
   "cell_type": "code",
   "execution_count": 6,
   "id": "aacc01cb-a14f-4cd4-8db9-2f87431c48ef",
   "metadata": {},
   "outputs": [
    {
     "name": "stdout",
     "output_type": "stream",
     "text": [
      "Expected time delta: tensor(1.6000)\n",
      "Predicted time delta: 1.5147813558578491\n"
     ]
    }
   ],
   "source": [
    "prefix = PaddedBatch({\n",
    "    \"timestamps\": batch.payload[\"timestamps\"][:1, :1],\n",
    "    \"labels\": batch.payload[\"labels\"][:1, :1]\n",
    "}, torch.ones_like(batch.seq_lens[:1]))\n",
    "\n",
    "with torch.no_grad():\n",
    "    outputs = module(prefix)\n",
    "print(\"Expected time delta:\", DTDistribution().expectation)\n",
    "print(\"Predicted time delta:\", outputs.payload[\"timestamps\"].item())"
   ]
  },
  {
   "cell_type": "code",
   "execution_count": 7,
   "id": "efa2e149-8c2b-41c1-b1ff-0752809210f7",
   "metadata": {},
   "outputs": [],
   "source": [
    "class Density:\n",
    "    \"\"\"Simple intensity-to-density mapper.\"\"\"\n",
    "    def __init__(self, intensity, sample_size=100):\n",
    "        self.i = intensity\n",
    "        self.s = torch.linspace(0, 1, sample_size)\n",
    "\n",
    "    def __call__(self, deltas):\n",
    "        means = self.i(deltas[..., None] * self.s.to(deltas.device)).mean(-1)  # (...).\n",
    "        integrals = means * deltas\n",
    "        log_values = self.i(deltas).log() - integrals\n",
    "        values = log_values.exp()\n",
    "        return values\n",
    "\n",
    "class IntensityFN:\n",
    "    \"\"\"Intensity function wrapper.\"\"\"\n",
    "    def __init__(self, deltas, intensities):\n",
    "        self.deltas = deltas.cpu().numpy()\n",
    "        self.intensities = intensities.cpu().numpy()\n",
    "\n",
    "    def __call__(self, deltas):\n",
    "        values = np.interp(deltas.cpu().numpy(), self.deltas, self.intensities)\n",
    "        values = torch.tensor(values, device=deltas.device, dtype=deltas.dtype)\n",
    "        return values\n",
    "\n",
    "def get_density(deltas, intensities):\n",
    "    \"\"\"Convert intensity to density.\"\"\"\n",
    "    return Density(IntensityFN(deltas, intensities))(deltas)"
   ]
  },
  {
   "cell_type": "code",
   "execution_count": 8,
   "id": "5f6ebac7-fa86-4cf7-9354-3c1376269c27",
   "metadata": {},
   "outputs": [
    {
     "data": {
      "image/png": "[encoded data removed]",
      "text/plain": [
       "<Figure size 640x480 with 1 Axes>"
      ]
     },
     "metadata": {},
     "output_type": "display_data"
    }
   ],
   "source": [
    "with torch.no_grad():\n",
    "    state = module.encode(prefix)[1]\n",
    "\n",
    "inter_times = torch.linspace(0, 5, 100)\n",
    "inter_times = PaddedBatch(inter_times[None, None], torch.tensor([1])).to(DEVICE)\n",
    "with torch.no_grad():\n",
    "    inter = module._loss.interpolator(state, inter_times).payload\n",
    "    intensity = module._loss.intensity(inter)[0, 0, :, 0]\n",
    "    density = get_density(inter_times.payload[0, 0], intensity)\n",
    "\n",
    "DTDistribution().plot(sample_size=None)\n",
    "plt.axhline(0, color=\"k\", linewidth=0.5)\n",
    "plt.plot(inter_times.payload[0, 0].cpu(), intensity.cpu(), label=\"Intensity\", c=\"red\")\n",
    "plt.plot(inter_times.payload[0, 0].cpu(), density.cpu(), label=\"Density\", c=\"blue\")\n",
    "plt.legend()\n",
    "plt.show()"
   ]
  },
  {
   "cell_type": "markdown",
   "id": "e9afe28a-61ef-4730-818c-1edf07fe6705",
   "metadata": {},
   "source": [
    "# Conclusion\n",
    "* Don't use batchnorm in the models' head"
   ]
  }
 ],
 "metadata": {
  "kernelspec": {
   "display_name": "Python 3 (ipykernel)",
   "language": "python",
   "name": "python3"
  },
  "language_info": {
   "codemirror_mode": {
    "name": "ipython",
    "version": 3
   },
   "file_extension": ".py",
   "mimetype": "text/x-python",
   "name": "python",
   "nbconvert_exporter": "python",
   "pygments_lexer": "ipython3",
   "version": "3.12.3"
  }
 },
 "nbformat": 4,
 "nbformat_minor": 5
}
